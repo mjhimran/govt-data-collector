{
 "cells": [
  {
   "cell_type": "markdown",
   "id": "ad3acf2e",
   "metadata": {},
   "source": [
    "## Import Libraries"
   ]
  },
  {
   "cell_type": "code",
   "execution_count": 60,
   "id": "d70f15d6",
   "metadata": {},
   "outputs": [],
   "source": [
    "from selenium import webdriver\n",
    "from selenium.webdriver.common.by import By\n",
    "# from selenium.webdriver.common.keys import Keys\n",
    "# from selenium.webdriver.chrome.options import Options\n",
    "# from selenium.webdriver.chrome.service import Service\n",
    "# from selenium.webdriver.support.ui import WebDriverWait\n",
    "# from selenium.webdriver.support import expected_conditions as EC\n",
    "import time \n",
    "import pandas as pd\n",
    "import re"
   ]
  },
  {
   "cell_type": "code",
   "execution_count": 62,
   "id": "1b8605c8",
   "metadata": {},
   "outputs": [],
   "source": [
    "def itemListRawFinder(driver):\n",
    "    itemListRaw = driver.find_elements(By.CSS_SELECTOR, \"div.show>div.checkBoxContainer>ul>li\")\n",
    "    time.sleep(1)\n",
    "    return itemListRaw, [item.text for item in itemListRaw]\n",
    "\n",
    "\n",
    "def itemClicker(essentialItems, itemListRaw, itemList):\n",
    "    for essentialItem in essentialItems:\n",
    "        indexEssentialItem = itemList.index(essentialItem)\n",
    "        time.sleep(1)\n",
    "        itemListRaw[indexEssentialItem].click()\n",
    "        \n",
    "        \n",
    "def optionSelector(itemGroup, itemSubGroup, itemName):\n",
    "    for i in range(7):\n",
    "        clickableButtons[i].click()\n",
    "        time.sleep(1)\n",
    "        if i < 4:\n",
    "            allSelectionOption = [x for x in driver.find_elements(By.CSS_SELECTOR, \"button.helperButton\")][i]\n",
    "            time.sleep(2)\n",
    "            allSelectionOption.click()\n",
    "        elif i == 4:\n",
    "            itemListRaw, itemList = itemListRawFinder(driver)\n",
    "            itemClicker(itemGroup, itemListRaw, itemList)\n",
    "        elif i == 5:\n",
    "            itemListRaw, itemList = itemListRawFinder(driver)\n",
    "            itemClicker(itemSubGroup, itemListRaw, itemList)\n",
    "        elif i == 6:\n",
    "            itemListRaw, itemList = itemListRawFinder(driver)\n",
    "            itemClicker(itemName, itemListRaw, itemList)\n",
    "        \n",
    "        \n",
    "def dataSheetGenerator(driver, fileName):\n",
    "    driver.find_element(By.XPATH, \"//button[contains(@class, 'btn mr-2 btn-primary')]\").click()\n",
    "    time.sleep(10)\n",
    "    # driver.find_element(By.XPATH, \"//div[contains(@class, 'btn btn_add_new')]\").click()\n",
    "    page_html = driver.page_source\n",
    "    tables = pd.read_html(page_html)\n",
    "    tables[1].to_csv(f\"{fileName}.csv\", index=False, encoding=\"utf-8-sig\")\n",
    "    \n",
    "    \n",
    "def dateFixer(collectionDate):\n",
    "    fromDate = driver.find_element(By.XPATH, \"//input[contains(@class, 'datepicker form-control is-valid')]\")\n",
    "    toDate = driver.find_element(By.XPATH, \"//input[contains(@class, 'datepicker1 form-control is-valid')]\")\n",
    "    time.sleep(1)\n",
    "\n",
    "    # Remove the 'readonly' attribute using JavaScript\n",
    "    driver.execute_script(\"arguments[0].removeAttribute('readonly')\", fromDate)\n",
    "    time.sleep(1)\n",
    "\n",
    "    # Clear any existing value (optional) and then type\n",
    "    fromDate.clear()\n",
    "    fromDate.send_keys(collectionDate)\n",
    "    time.sleep(1)\n",
    "\n",
    "    # Remove the 'readonly' attribute using JavaScript\n",
    "    driver.execute_script(\"arguments[0].removeAttribute('readonly')\", toDate)\n",
    "    time.sleep(1)\n",
    "\n",
    "    # Clear any existing value (optional) and then type\n",
    "    toDate.clear()\n",
    "    toDate.send_keys(collectionDate)\n",
    "    time.sleep(1)"
   ]
  },
  {
   "cell_type": "code",
   "execution_count": 79,
   "id": "9398a67f",
   "metadata": {},
   "outputs": [],
   "source": [
    "itemGroup = ['Egg']\n",
    "itemSubGroup = ['Hen']\n",
    "itemName = ['Egg Farm-Red', 'Egg Farm-White']\n",
    "collectionDate = \"2023-11-31\"\n",
    "fileName = 'Egg'+\" \"+collectionDate"
   ]
  },
  {
   "cell_type": "markdown",
   "id": "8d90fcbb",
   "metadata": {},
   "source": [
    "## Basic Setup of Driver"
   ]
  },
  {
   "cell_type": "code",
   "execution_count": 65,
   "id": "3811a90e",
   "metadata": {},
   "outputs": [],
   "source": [
    "# Initialize the WebDriver\n",
    "driver = webdriver.Chrome()\n",
    "time.sleep(2)\n",
    "driver.get(\"http://service.moa.gov.bd/market-directory/product-wise-market-price-report\")\n",
    "time.sleep(3)\n",
    "driver.find_element(By.XPATH, \"//button[contains(@class, 'btn btn_lang')]\").click()\n",
    "time.sleep(3)\n",
    "\n",
    "clickableButtons = driver.find_elements(By.XPATH, \"//button[contains(@class, 'btn-select')]\")"
   ]
  },
  {
   "cell_type": "code",
   "execution_count": 64,
   "id": "3e3d4b58",
   "metadata": {},
   "outputs": [
    {
     "name": "stderr",
     "output_type": "stream",
     "text": [
      "C:\\Users\\MJH_Imran\\AppData\\Local\\Temp\\ipykernel_19076\\6743579.py:37: FutureWarning: Passing literal html to 'read_html' is deprecated and will be removed in a future version. To read from a literal string, wrap it in a 'StringIO' object.\n",
      "  tables = pd.read_html(page_html)\n"
     ]
    }
   ],
   "source": [
    "optionSelector(itemGroup, itemSubGroup, itemName)\n",
    "dataSheetGenerator(driver, fileName)"
   ]
  }
 ],
 "metadata": {
  "kernelspec": {
   "display_name": "Python 3 (ipykernel)",
   "language": "python",
   "name": "python3"
  },
  "language_info": {
   "codemirror_mode": {
    "name": "ipython",
    "version": 3
   },
   "file_extension": ".py",
   "mimetype": "text/x-python",
   "name": "python",
   "nbconvert_exporter": "python",
   "pygments_lexer": "ipython3",
   "version": "3.9.17"
  }
 },
 "nbformat": 4,
 "nbformat_minor": 5
}
